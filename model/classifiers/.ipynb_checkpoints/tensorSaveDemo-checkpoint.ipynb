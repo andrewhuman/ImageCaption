{
 "cells": [
  {
   "cell_type": "code",
   "execution_count": 1,
   "metadata": {
    "collapsed": true
   },
   "outputs": [],
   "source": [
    "import tensorflow as tf"
   ]
  },
  {
   "cell_type": "code",
   "execution_count": 6,
   "metadata": {},
   "outputs": [
    {
     "name": "stdout",
     "output_type": "stream",
     "text": [
      "weights:\n",
      "[[ 0.18985339  0.71882349  1.98680198]\n",
      " [ 1.48618042  0.05305772  0.66262269]]\n",
      "bias:\n",
      "[ 0.  0.  0.]\n"
     ]
    }
   ],
   "source": [
    "save_file='./model.ckpt'\n",
    "\n",
    "weights = tf.Variable(tf.truncated_normal((2,3)))\n",
    "bias = tf.Variable(tf.zeros([3]))\n",
    "                            \n",
    "save = tf.train.Saver()\n",
    "\n",
    "with tf.Session() as sess:\n",
    "    \n",
    "    sess.run(tf.global_variables_initializer())\n",
    "    print('weights:')\n",
    "    print(sess.run(weights))\n",
    "    print('bias:')\n",
    "    print(sess.run(bias))\n",
    "    save.save(sess,save_file)"
   ]
  },
  {
   "cell_type": "code",
   "execution_count": null,
   "metadata": {
    "collapsed": true
   },
   "outputs": [],
   "source": [
    "tf.reset_default_graph()\n",
    "\n",
    "weights = tf.Variable(tf.truncated_normal((2,3)))\n",
    "bias = tf.Variable(tf.zeros([3]))\n",
    "\n",
    "save = tf.train.Saver()\n",
    "with tf.Session() as sess:\n",
    "    save.restore(sess,save_file)\n",
    "     print('weights:')\n",
    "    print(sess.run(weights))\n",
    "    print('bias:')\n",
    "    print(sess.run(bias))\n",
    "    "
   ]
  }
 ],
 "metadata": {
  "kernelspec": {
   "display_name": "Python 3",
   "language": "python",
   "name": "python3"
  },
  "language_info": {
   "codemirror_mode": {
    "name": "ipython",
    "version": 3
   },
   "file_extension": ".py",
   "mimetype": "text/x-python",
   "name": "python",
   "nbconvert_exporter": "python",
   "pygments_lexer": "ipython3",
   "version": "3.5.4"
  }
 },
 "nbformat": 4,
 "nbformat_minor": 2
}
