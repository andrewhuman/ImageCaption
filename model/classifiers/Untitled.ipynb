{
 "cells": [
  {
   "cell_type": "code",
   "execution_count": 5,
   "metadata": {
    "collapsed": true
   },
   "outputs": [],
   "source": [
    "import tensorflow as tf\n",
    "import matplotlib.pyplot as plt\n",
    "import numpy as np\n"
   ]
  },
  {
   "cell_type": "code",
   "execution_count": 21,
   "metadata": {
    "collapsed": true
   },
   "outputs": [],
   "source": [
    "tf.set_random_seed(1)\n",
    "np.random.seed(1)\n",
    "\n",
    "# fake data\n",
    "x = np.linspace(-1, 1, 100)[:, np.newaxis]          # shape (100, 1)\n",
    "noise = np.random.normal(0, 0.1, size=x.shape)\n",
    "y = np.power(x, 2) + noise  \n",
    "\n"
   ]
  },
  {
   "cell_type": "code",
   "execution_count": 22,
   "metadata": {},
   "outputs": [
    {
     "name": "stdout",
     "output_type": "stream",
     "text": [
      "[[-1.        ]\n",
      " [-0.97979798]\n",
      " [-0.95959596]\n",
      " [-0.93939394]\n",
      " [-0.91919192]\n",
      " [-0.8989899 ]\n",
      " [-0.87878788]\n",
      " [-0.85858586]\n",
      " [-0.83838384]\n",
      " [-0.81818182]\n",
      " [-0.7979798 ]\n",
      " [-0.77777778]\n",
      " [-0.75757576]\n",
      " [-0.73737374]\n",
      " [-0.71717172]\n",
      " [-0.6969697 ]\n",
      " [-0.67676768]\n",
      " [-0.65656566]\n",
      " [-0.63636364]\n",
      " [-0.61616162]\n",
      " [-0.5959596 ]\n",
      " [-0.57575758]\n",
      " [-0.55555556]\n",
      " [-0.53535354]\n",
      " [-0.51515152]\n",
      " [-0.49494949]\n",
      " [-0.47474747]\n",
      " [-0.45454545]\n",
      " [-0.43434343]\n",
      " [-0.41414141]\n",
      " [-0.39393939]\n",
      " [-0.37373737]\n",
      " [-0.35353535]\n",
      " [-0.33333333]\n",
      " [-0.31313131]\n",
      " [-0.29292929]\n",
      " [-0.27272727]\n",
      " [-0.25252525]\n",
      " [-0.23232323]\n",
      " [-0.21212121]\n",
      " [-0.19191919]\n",
      " [-0.17171717]\n",
      " [-0.15151515]\n",
      " [-0.13131313]\n",
      " [-0.11111111]\n",
      " [-0.09090909]\n",
      " [-0.07070707]\n",
      " [-0.05050505]\n",
      " [-0.03030303]\n",
      " [-0.01010101]\n",
      " [ 0.01010101]\n",
      " [ 0.03030303]\n",
      " [ 0.05050505]\n",
      " [ 0.07070707]\n",
      " [ 0.09090909]\n",
      " [ 0.11111111]\n",
      " [ 0.13131313]\n",
      " [ 0.15151515]\n",
      " [ 0.17171717]\n",
      " [ 0.19191919]\n",
      " [ 0.21212121]\n",
      " [ 0.23232323]\n",
      " [ 0.25252525]\n",
      " [ 0.27272727]\n",
      " [ 0.29292929]\n",
      " [ 0.31313131]\n",
      " [ 0.33333333]\n",
      " [ 0.35353535]\n",
      " [ 0.37373737]\n",
      " [ 0.39393939]\n",
      " [ 0.41414141]\n",
      " [ 0.43434343]\n",
      " [ 0.45454545]\n",
      " [ 0.47474747]\n",
      " [ 0.49494949]\n",
      " [ 0.51515152]\n",
      " [ 0.53535354]\n",
      " [ 0.55555556]\n",
      " [ 0.57575758]\n",
      " [ 0.5959596 ]\n",
      " [ 0.61616162]\n",
      " [ 0.63636364]\n",
      " [ 0.65656566]\n",
      " [ 0.67676768]\n",
      " [ 0.6969697 ]\n",
      " [ 0.71717172]\n",
      " [ 0.73737374]\n",
      " [ 0.75757576]\n",
      " [ 0.77777778]\n",
      " [ 0.7979798 ]\n",
      " [ 0.81818182]\n",
      " [ 0.83838384]\n",
      " [ 0.85858586]\n",
      " [ 0.87878788]\n",
      " [ 0.8989899 ]\n",
      " [ 0.91919192]\n",
      " [ 0.93939394]\n",
      " [ 0.95959596]\n",
      " [ 0.97979798]\n",
      " [ 1.        ]]\n"
     ]
    }
   ],
   "source": [
    "print(x)\n",
    "print()"
   ]
  },
  {
   "cell_type": "code",
   "execution_count": 14,
   "metadata": {
    "collapsed": true
   },
   "outputs": [],
   "source": [
    "save_model_path = './mysave'"
   ]
  },
  {
   "cell_type": "code",
   "execution_count": 18,
   "metadata": {},
   "outputs": [],
   "source": [
    "def save():\n",
    "    print('This is save')\n",
    "    # build neural network\n",
    "    tf_x = tf.placeholder(tf.float32, x.shape)  # input x\n",
    "    tf_y = tf.placeholder(tf.float32, y.shape)  # input y\n",
    "    l = tf.layers.dense(tf_x, 10, tf.nn.relu)          # hidden layer\n",
    "    o = tf.layers.dense(l, 1)                     # output layer\n",
    "    loss = tf.losses.mean_squared_error(tf_y, o)   # compute cost\n",
    "    train_op = tf.train.GradientDescentOptimizer(learning_rate=0.5).minimize(loss)\n",
    "\n",
    "    sess = tf.Session()\n",
    "    sess.run(tf.global_variables_initializer())  # initialize var in graph\n",
    "\n",
    "    saver = tf.train.Saver()  # define a saver for saving and restoring\n",
    "\n",
    "    for step in range(100):                             # train\n",
    "        sess.run(train_op, {tf_x: x, tf_y: y})\n",
    "        \n",
    "    saver.save(sess,save_model_path)\n",
    "    # plotting\n",
    "    pred, l = sess.run([o, loss], {tf_x: x, tf_y: y})\n",
    "    plt.figure(1, figsize=(10, 5))\n",
    "    plt.subplot(121)\n",
    "    plt.scatter(x, y)\n",
    "    plt.plot(x, pred, 'r-', lw=5)\n",
    "    plt.text(-1, 1.2, 'Save Loss=%.4f' % l, fontdict={'size': 15, 'color': 'red'})\n",
    "    \n",
    "    \n",
    "    \n",
    "    \n",
    "\n",
    "    "
   ]
  },
  {
   "cell_type": "code",
   "execution_count": 23,
   "metadata": {
    "collapsed": true
   },
   "outputs": [],
   "source": [
    "def reload():\n",
    "    print('This is reload')\n",
    "    # build entire net again and restore\n",
    "    tf_xx = tf.placeholder(tf.float32, x.shape)  # input x\n",
    "    tf_y = tf.placeholder(tf.float32, y.shape)  # input y\n",
    "    l_ = tf.layers.dense(tf_xx, 10, tf.nn.relu)          # hidden layer\n",
    "    o_ = tf.layers.dense(l_, 1)                     # output layer\n",
    "    loss_ = tf.losses.mean_squared_error(tf_y, o_)   # compute cost\n",
    "\n",
    "    sess = tf.Session()\n",
    "    # don't need to initialize variables, just restoring trained variables\n",
    "    saver = tf.train.Saver()  # define a saver for saving and restoring\n",
    "    saver.restore(sess, save_model_path)\n",
    "\n",
    "    # plotting\n",
    "    pred, l = sess.run([o_, loss_], {tf_xx: x, tf_y: y})\n",
    "    plt.subplot(122)\n",
    "    plt.scatter(x, y)\n",
    "    plt.plot(x, pred, 'r-', lw=5)\n",
    "    plt.text(-1, 1.2, 'Reload Loss=%.4f' % l, fontdict={'size': 15, 'color': 'red'})\n",
    "    plt.show()"
   ]
  },
  {
   "cell_type": "code",
   "execution_count": 24,
   "metadata": {},
   "outputs": [
    {
     "name": "stdout",
     "output_type": "stream",
     "text": [
      "This is save\n",
      "This is reload\n"
     ]
    },
    {
     "data": {
      "image/png": "[encoded data removed]",
      "text/plain": [
       "<matplotlib.figure.Figure at 0x243d5981eb8>"
      ]
     },
     "metadata": {},
     "output_type": "display_data"
    }
   ],
   "source": [
    "save()\n",
    "\n",
    "# destroy previous net\n",
    "tf.reset_default_graph()\n",
    "\n",
    "reload()"
   ]
  },
  {
   "cell_type": "code",
   "execution_count": null,
   "metadata": {
    "collapsed": true
   },
   "outputs": [],
   "source": []
  }
 ],
 "metadata": {
  "kernelspec": {
   "display_name": "Python 3",
   "language": "python",
   "name": "python3"
  },
  "language_info": {
   "codemirror_mode": {
    "name": "ipython",
    "version": 3
   },
   "file_extension": ".py",
   "mimetype": "text/x-python",
   "name": "python",
   "nbconvert_exporter": "python",
   "pygments_lexer": "ipython3",
   "version": "3.5.4"
  }
 },
 "nbformat": 4,
 "nbformat_minor": 2
}
